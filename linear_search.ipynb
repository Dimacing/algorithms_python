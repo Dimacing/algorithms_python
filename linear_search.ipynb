{
 "cells": [
  {
   "cell_type": "code",
   "execution_count": null,
   "metadata": {},
   "outputs": [],
   "source": [
    "import numpy as np"
   ]
  },
  {
   "cell_type": "code",
   "execution_count": 2,
   "metadata": {},
   "outputs": [
    {
     "name": "stdout",
     "output_type": "stream",
     "text": [
      "543346\n",
      "последовательность пустая\n"
     ]
    }
   ],
   "source": [
    "#найти первое вхождение числа x или вывести -1\n",
    "def linear_search_1(seq, x):\n",
    "    res = -1\n",
    "    for i in range(len(seq)):\n",
    "        if res == -1 and seq[i] == x:\n",
    "            res = i\n",
    "    return res\n",
    "\n",
    "#найти последнее вхождение числа x или вывести -1\n",
    "def linear_search_2(seq, x):\n",
    "    res = -1\n",
    "    for i in range(len(seq)):\n",
    "        if seq[i] == x:\n",
    "            res = i\n",
    "    return res\n",
    "\n",
    "#найти максимальное число в последовательности\n",
    "def linear_search_max(seq):\n",
    "    if not seq:\n",
    "        return \"последовательность пустая\"\n",
    "    max_num = seq[0]\n",
    "    for num in seq:\n",
    "        if max_num < num:\n",
    "            max_num = num\n",
    "    return max_num\n",
    "\n",
    "print(linear_search_max([1, 123, 123, 543346, 12]))\n",
    "print(linear_search_max([]))\n"
   ]
  }
 ],
 "metadata": {
  "kernelspec": {
   "display_name": "Python 3",
   "language": "python",
   "name": "python3"
  },
  "language_info": {
   "codemirror_mode": {
    "name": "ipython",
    "version": 3
   },
   "file_extension": ".py",
   "mimetype": "text/x-python",
   "name": "python",
   "nbconvert_exporter": "python",
   "pygments_lexer": "ipython3",
   "version": "3.11.4"
  },
  "orig_nbformat": 4
 },
 "nbformat": 4,
 "nbformat_minor": 2
}
