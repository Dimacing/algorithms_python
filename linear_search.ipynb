{
 "cells": [
  {
   "cell_type": "code",
   "execution_count": null,
   "metadata": {},
   "outputs": [],
   "source": [
    "import numpy as np"
   ]
  },
  {
   "cell_type": "code",
   "execution_count": 2,
   "metadata": {},
   "outputs": [
    {
     "name": "stdout",
     "output_type": "stream",
     "text": [
      "543346\n",
      "последовательность пустая\n",
      "23123\n"
     ]
    }
   ],
   "source": [
    "#найти первое вхождение числа x или вывести -1\n",
    "def linear_search_1(seq, x):\n",
    "    res = -1\n",
    "    for i in range(len(seq)):\n",
    "        if res == -1 and seq[i] == x:\n",
    "            res = i\n",
    "    return res\n",
    "\n",
    "#найти последнее вхождение числа x или вывести -1\n",
    "def linear_search_2(seq, x):\n",
    "    res = -1\n",
    "    for i in range(len(seq)):\n",
    "        if seq[i] == x:\n",
    "            res = i\n",
    "    return res\n",
    "\n",
    "#найти максимальное число в последовательности\n",
    "def linear_search_max(seq):\n",
    "    if not seq:\n",
    "        return \"последовательность пустая\"\n",
    "    max_num = seq[0]\n",
    "    for i in range(len(seq)):\n",
    "        if max_num < seq[i]:\n",
    "            max_num = seq[i] #но опирация копирования может быть долгой\n",
    "    return max_num\n",
    "\n",
    "#найти максимальное значение без копирования\n",
    "def linear_max_new(seq):\n",
    "    if not seq:\n",
    "        return(\"последовательность пустая\")\n",
    "    index = 0\n",
    "    for i in range(len(seq)):\n",
    "        if seq[i] > seq[index]:\n",
    "            index = i\n",
    "    return seq[index]\n",
    "\n",
    "#найти максимальное число и второе по велечине максимальное число\n",
    "#выкидываем только одно максимальное число\n",
    "\n",
    "def linear_max_two(seq):\n",
    "    max_1 = seq[0]\n",
    "    max_2 = seq[0]\n",
    "\n",
    "\n",
    "print(linear_search_max([1, 123, 123, 543346, 12]))\n",
    "print(linear_search_max([]))\n",
    "print(linear_max_new([1,23123, 12312,12, 0, 1231]))\n"
   ]
  }
 ],
 "metadata": {
  "kernelspec": {
   "display_name": "Python 3",
   "language": "python",
   "name": "python3"
  },
  "language_info": {
   "codemirror_mode": {
    "name": "ipython",
    "version": 3
   },
   "file_extension": ".py",
   "mimetype": "text/x-python",
   "name": "python",
   "nbconvert_exporter": "python",
   "pygments_lexer": "ipython3",
   "version": "3.11.4"
  },
  "orig_nbformat": 4
 },
 "nbformat": 4,
 "nbformat_minor": 2
}
